{
 "cells": [
  {
   "cell_type": "code",
   "execution_count": 5,
   "id": "75891ebf",
   "metadata": {},
   "outputs": [],
   "source": [
    "import pandas as pd\n",
    "food_df=pd.read_csv('./FoodBalanceSheets_E_Africa_NOFLAG.csv', encoding='latin-1')"
   ]
  },
  {
   "cell_type": "code",
   "execution_count": 4,
   "id": "1b53c784",
   "metadata": {},
   "outputs": [
    {
     "data": {
      "text/plain": [
       "<bound method NDFrame.head of       Area Code,Area,Item Code,Item,Element Code,Element,Unit,Y2014,Y2015,Y2016,Y2017,Y2018\n",
       "0      4,\"Algeria\",\"2501\",\"Population\",\"511\",\"Total P...                                   \n",
       "1      4,\"Algeria\",\"2501\",\"Population\",\"5301\",\"Domest...                                   \n",
       "2      4,\"Algeria\",\"2901\",\"Grand Total\",\"664\",\"Food s...                                   \n",
       "3      4,\"Algeria\",\"2901\",\"Grand Total\",\"674\",\"Protei...                                   \n",
       "4      4,\"Algeria\",\"2901\",\"Grand Total\",\"684\",\"Fat su...                                   \n",
       "...                                                  ...                                   \n",
       "60938  181,\"Zimbabwe\",\"2899\",\"Miscellaneous\",\"5142\",\"...                                   \n",
       "60939  181,\"Zimbabwe\",\"2899\",\"Miscellaneous\",\"645\",\"F...                                   \n",
       "60940  181,\"Zimbabwe\",\"2899\",\"Miscellaneous\",\"664\",\"F...                                   \n",
       "60941  181,\"Zimbabwe\",\"2899\",\"Miscellaneous\",\"674\",\"P...                                   \n",
       "60942  181,\"Zimbabwe\",\"2899\",\"Miscellaneous\",\"684\",\"F...                                   \n",
       "\n",
       "[60943 rows x 1 columns]>"
      ]
     },
     "execution_count": 4,
     "metadata": {},
     "output_type": "execute_result"
    }
   ],
   "source": [
    "food_df.head"
   ]
  },
  {
   "cell_type": "code",
   "execution_count": 7,
   "id": "58f55ca3",
   "metadata": {},
   "outputs": [
    {
     "data": {
      "text/plain": [
       "Unit\n",
       "1000 persons          45\n",
       "1000 tonnes        40933\n",
       "g/capita/day       10046\n",
       "kcal/capita/day     5014\n",
       "kg                  4905\n",
       "Name: Unit, dtype: int64"
      ]
     },
     "execution_count": 7,
     "metadata": {},
     "output_type": "execute_result"
    }
   ],
   "source": [
    "food_df.groupby(\"Unit\")[\"Unit\"].count()"
   ]
  },
  {
   "cell_type": "code",
   "execution_count": 8,
   "id": "30d2b710",
   "metadata": {},
   "outputs": [],
   "source": [
    "#after trying to upload the data from the github side, it refuse to load,so i had to download it\n",
    "#then upload it into my jupiter after several attempts, but succeeded \n",
    "# time is up already\n"
   ]
  },
  {
   "cell_type": "code",
   "execution_count": null,
   "id": "2831b629",
   "metadata": {},
   "outputs": [],
   "source": []
  }
 ],
 "metadata": {
  "kernelspec": {
   "display_name": "Python 3 (ipykernel)",
   "language": "python",
   "name": "python3"
  },
  "language_info": {
   "codemirror_mode": {
    "name": "ipython",
    "version": 3
   },
   "file_extension": ".py",
   "mimetype": "text/x-python",
   "name": "python",
   "nbconvert_exporter": "python",
   "pygments_lexer": "ipython3",
   "version": "3.9.12"
  }
 },
 "nbformat": 4,
 "nbformat_minor": 5
}
